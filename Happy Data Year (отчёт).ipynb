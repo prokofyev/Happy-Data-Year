{
 "cells": [
  {
   "cell_type": "markdown",
   "metadata": {},
   "source": [
    "# Happy Data Year\n",
    "\n",
    "https://boosters.pro/championship/rosbank2/overview\n",
    "\n",
    "Happy Data Year - новогодний чемпионат по анализу данных от Росбанка. Нужно предсказать индекс популярности геолокации для размещения устройства банкоматной сети.\n",
    "\n",
    "В обучающей выборке находятся данные о геопозиции шести тысяч банкоматов Росбанка и его партнеров, а также целевая переменная — индекс популярности банкомата. В тестовой выборке еще две с половиной тысячи банкоматов, разделенных поровну на публичную и приватную часть.\n",
    "\n",
    "Оценка алгоритма - $RMSE = \\sqrt{\\frac{\\Sigma_{i=1}^{n}{({y_i-\\widehat{y}_i})^2}}{n}}$"
   ]
  },
  {
   "cell_type": "code",
   "execution_count": 1,
   "metadata": {},
   "outputs": [],
   "source": [
    "import pandas as pd\n",
    "import numpy as np"
   ]
  },
  {
   "cell_type": "code",
   "execution_count": 2,
   "metadata": {},
   "outputs": [],
   "source": [
    "train = pd.read_csv(\"train.csv\", index_col=0)\n",
    "test = pd.read_csv(\"test.csv\", index_col=0)"
   ]
  },
  {
   "cell_type": "markdown",
   "metadata": {},
   "source": [
    "### Анализ данных, заполнение пропусков"
   ]
  },
  {
   "cell_type": "code",
   "execution_count": 3,
   "metadata": {},
   "outputs": [
    {
     "data": {
      "text/html": [
       "<div>\n",
       "<style scoped>\n",
       "    .dataframe tbody tr th:only-of-type {\n",
       "        vertical-align: middle;\n",
       "    }\n",
       "\n",
       "    .dataframe tbody tr th {\n",
       "        vertical-align: top;\n",
       "    }\n",
       "\n",
       "    .dataframe thead th {\n",
       "        text-align: right;\n",
       "    }\n",
       "</style>\n",
       "<table border=\"1\" class=\"dataframe\">\n",
       "  <thead>\n",
       "    <tr style=\"text-align: right;\">\n",
       "      <th></th>\n",
       "      <th>id</th>\n",
       "      <th>atm_group</th>\n",
       "      <th>address</th>\n",
       "      <th>address_rus</th>\n",
       "      <th>lat</th>\n",
       "      <th>long</th>\n",
       "      <th>target</th>\n",
       "    </tr>\n",
       "  </thead>\n",
       "  <tbody>\n",
       "    <tr>\n",
       "      <th>0</th>\n",
       "      <td>8526.0</td>\n",
       "      <td>32.0</td>\n",
       "      <td>EMELYANOVA,34          Y-SAKHALINSK</td>\n",
       "      <td>улица А.О. Емельянова, 34, Южно-Сахалинск, Сах...</td>\n",
       "      <td>46.940995</td>\n",
       "      <td>142.738319</td>\n",
       "      <td>0.011500</td>\n",
       "    </tr>\n",
       "    <tr>\n",
       "      <th>1</th>\n",
       "      <td>8532.0</td>\n",
       "      <td>32.0</td>\n",
       "      <td>KOMSOMOLSKAYA,259B     Y.SAKHALINSK</td>\n",
       "      <td>Комсомольская улица, 259, Южно-Сахалинск, Саха...</td>\n",
       "      <td>46.937353</td>\n",
       "      <td>142.753348</td>\n",
       "      <td>0.029710</td>\n",
       "    </tr>\n",
       "    <tr>\n",
       "      <th>2</th>\n",
       "      <td>8533.0</td>\n",
       "      <td>32.0</td>\n",
       "      <td>KOMMUN. PR., 32        YUZHNO SAKHAL</td>\n",
       "      <td>Коммунистический проспект, Южно-Сахалинск, Сах...</td>\n",
       "      <td>46.959413</td>\n",
       "      <td>142.741113</td>\n",
       "      <td>0.009540</td>\n",
       "    </tr>\n",
       "    <tr>\n",
       "      <th>3</th>\n",
       "      <td>8684.0</td>\n",
       "      <td>32.0</td>\n",
       "      <td>LENINGRADSKIY PR.,76A  MOSCOW</td>\n",
       "      <td>Ленинградский проспект, 76А, Москва, Россия, 1...</td>\n",
       "      <td>55.805827</td>\n",
       "      <td>37.515146</td>\n",
       "      <td>-0.094035</td>\n",
       "    </tr>\n",
       "    <tr>\n",
       "      <th>4</th>\n",
       "      <td>37.0</td>\n",
       "      <td>32.0</td>\n",
       "      <td>GVARDEYSKAYA PL., 2    NORILSK</td>\n",
       "      <td>Гвардейская площадь, 2, Норильск, Красноярский...</td>\n",
       "      <td>69.343541</td>\n",
       "      <td>88.211228</td>\n",
       "      <td>0.079277</td>\n",
       "    </tr>\n",
       "  </tbody>\n",
       "</table>\n",
       "</div>"
      ],
      "text/plain": [
       "       id  atm_group                                 address  \\\n",
       "0  8526.0       32.0  EMELYANOVA,34          Y-SAKHALINSK      \n",
       "1  8532.0       32.0  KOMSOMOLSKAYA,259B     Y.SAKHALINSK      \n",
       "2  8533.0       32.0  KOMMUN. PR., 32        YUZHNO SAKHAL     \n",
       "3  8684.0       32.0  LENINGRADSKIY PR.,76A  MOSCOW            \n",
       "4    37.0       32.0  GVARDEYSKAYA PL., 2    NORILSK           \n",
       "\n",
       "                                         address_rus        lat        long  \\\n",
       "0  улица А.О. Емельянова, 34, Южно-Сахалинск, Сах...  46.940995  142.738319   \n",
       "1  Комсомольская улица, 259, Южно-Сахалинск, Саха...  46.937353  142.753348   \n",
       "2  Коммунистический проспект, Южно-Сахалинск, Сах...  46.959413  142.741113   \n",
       "3  Ленинградский проспект, 76А, Москва, Россия, 1...  55.805827   37.515146   \n",
       "4  Гвардейская площадь, 2, Норильск, Красноярский...  69.343541   88.211228   \n",
       "\n",
       "     target  \n",
       "0  0.011500  \n",
       "1  0.029710  \n",
       "2  0.009540  \n",
       "3 -0.094035  \n",
       "4  0.079277  "
      ]
     },
     "execution_count": 3,
     "metadata": {},
     "output_type": "execute_result"
    }
   ],
   "source": [
    "train.head()"
   ]
  },
  {
   "cell_type": "code",
   "execution_count": 4,
   "metadata": {},
   "outputs": [
    {
     "data": {
      "text/plain": [
       "id               0\n",
       "atm_group        0\n",
       "address          0\n",
       "address_rus    304\n",
       "lat            304\n",
       "long           304\n",
       "target           0\n",
       "dtype: int64"
      ]
     },
     "execution_count": 4,
     "metadata": {},
     "output_type": "execute_result"
    }
   ],
   "source": [
    "train.isna().sum()"
   ]
  },
  {
   "cell_type": "markdown",
   "metadata": {},
   "source": [
    "В обучающих и тестовых данных имеются строки, где указан только адрес латинскими буквами, но нет широты и долготы."
   ]
  },
  {
   "cell_type": "markdown",
   "metadata": {},
   "source": [
    "С помощью этой библиотеки будем превращать транслитерацию в кириллицу:"
   ]
  },
  {
   "cell_type": "code",
   "execution_count": 5,
   "metadata": {},
   "outputs": [],
   "source": [
    "import cyrtranslit   "
   ]
  },
  {
   "cell_type": "code",
   "execution_count": 6,
   "metadata": {},
   "outputs": [
    {
     "data": {
      "text/plain": [
       "'ЛЕНИНГРАДСКИЙ ПР.,76А'"
      ]
     },
     "execution_count": 6,
     "metadata": {},
     "output_type": "execute_result"
    }
   ],
   "source": [
    "cyrtranslit.to_cyrillic(\"LENINGRADSKIY PR.,76A\", 'ru')"
   ]
  },
  {
   "cell_type": "code",
   "execution_count": 7,
   "metadata": {},
   "outputs": [],
   "source": [
    "import requests"
   ]
  },
  {
   "cell_type": "markdown",
   "metadata": {},
   "source": [
    "Эта функция с помощью Yandex.Translate API переводит строку с английского языка на русский:"
   ]
  },
  {
   "cell_type": "code",
   "execution_count": 8,
   "metadata": {},
   "outputs": [],
   "source": [
    "def translate(s):\n",
    "    key = \"trnsl.1.1.20141031T091526Z.c7258ad3549a5c3b.4014cc4efaf6aa8bba976eb04da8f906b44d4076\"\n",
    "    r = requests.get('https://translate.yandex.net/api/v1.5/tr.json/translate?key={}&text={}&lang=en-ru'.format(key, s))\n",
    "    r = r.json()\n",
    "    if r[\"code\"] == 200:\n",
    "        return r[\"text\"][0]\n",
    "    else:\n",
    "        return None"
   ]
  },
  {
   "cell_type": "code",
   "execution_count": 9,
   "metadata": {},
   "outputs": [
    {
     "data": {
      "text/plain": [
       "'Москва'"
      ]
     },
     "execution_count": 9,
     "metadata": {},
     "output_type": "execute_result"
    }
   ],
   "source": [
    "translate(\"MOSCOW\")"
   ]
  },
  {
   "cell_type": "markdown",
   "metadata": {},
   "source": [
    "Эта функция с помощью Геокодера API Яндекс.Карт по строке с адресом возвращает координаты точки:"
   ]
  },
  {
   "cell_type": "code",
   "execution_count": 10,
   "metadata": {},
   "outputs": [],
   "source": [
    "def geocode(s):\n",
    "    apikey = \"6c46c2d4-efa9-4638-b868-f32a87cd9066\"\n",
    "    r = requests.get('https://geocode-maps.yandex.ru/1.x/?format=json&apikey={}&geocode={}'.format(apikey, s))\n",
    "    r = r.json()\n",
    "    if int(r[\"response\"][\"GeoObjectCollection\"][\"metaDataProperty\"][\"GeocoderResponseMetaData\"][\"found\"]) > 0:\n",
    "        return r[\"response\"][\"GeoObjectCollection\"][\"featureMember\"][0][\"GeoObject\"][\"Point\"][\"pos\"].split()\n",
    "    else:\n",
    "        return np.NaN, np.NaN"
   ]
  },
  {
   "cell_type": "code",
   "execution_count": 11,
   "metadata": {},
   "outputs": [
    {
     "data": {
      "text/plain": [
       "['37.515155', '55.805837']"
      ]
     },
     "execution_count": 11,
     "metadata": {},
     "output_type": "execute_result"
    }
   ],
   "source": [
    "geocode(\"ЛЕНИНГРАДСКИЙ ПР.,76А Москва\")"
   ]
  },
  {
   "cell_type": "code",
   "execution_count": 12,
   "metadata": {},
   "outputs": [],
   "source": [
    "import time"
   ]
  },
  {
   "cell_type": "code",
   "execution_count": 13,
   "metadata": {},
   "outputs": [],
   "source": [
    "def fill(x):\n",
    "    if x[\"address_rus\"] != x[\"address_rus\"]:\n",
    "        \n",
    "        # режем адрес на части, последнее слово - название города на английском, остальные слова написаны транслитерацией\n",
    "        ps = x[\"address\"].split()\n",
    "        ps[:-1] = list(map(lambda s: cyrtranslit.to_cyrillic(s, 'ru'), ps[:-1]))\n",
    "        ps[-1] = translate(ps[-1])\n",
    "        ar = \" \".join(ps)\n",
    "\n",
    "        long, lat = geocode(ar)\n",
    "\n",
    "        x[\"address_rus\"] = ar\n",
    "        x[\"lat\"] = lat\n",
    "        x[\"long\"] = long\n",
    "        \n",
    "        # делаем задержку, чтобы не перегружать сервер Яндекса\n",
    "        time.sleep(1)    \n",
    "    return x"
   ]
  },
  {
   "cell_type": "code",
   "execution_count": 14,
   "metadata": {},
   "outputs": [],
   "source": [
    "from tqdm import tqdm"
   ]
  },
  {
   "cell_type": "code",
   "execution_count": 15,
   "metadata": {},
   "outputs": [],
   "source": [
    "tqdm.pandas()"
   ]
  },
  {
   "cell_type": "markdown",
   "metadata": {},
   "source": [
    "Находим недостающие координаты банкоматов:"
   ]
  },
  {
   "cell_type": "code",
   "execution_count": 16,
   "metadata": {},
   "outputs": [],
   "source": [
    "# train = train.progress_apply(fill, axis=1)\n",
    "# test = test.progress_apply(fill, axis=1)"
   ]
  },
  {
   "cell_type": "code",
   "execution_count": 17,
   "metadata": {},
   "outputs": [
    {
     "data": {
      "text/html": [
       "<div>\n",
       "<style scoped>\n",
       "    .dataframe tbody tr th:only-of-type {\n",
       "        vertical-align: middle;\n",
       "    }\n",
       "\n",
       "    .dataframe tbody tr th {\n",
       "        vertical-align: top;\n",
       "    }\n",
       "\n",
       "    .dataframe thead th {\n",
       "        text-align: right;\n",
       "    }\n",
       "</style>\n",
       "<table border=\"1\" class=\"dataframe\">\n",
       "  <thead>\n",
       "    <tr style=\"text-align: right;\">\n",
       "      <th></th>\n",
       "      <th>id</th>\n",
       "      <th>atm_group</th>\n",
       "      <th>address</th>\n",
       "      <th>address_rus</th>\n",
       "      <th>lat</th>\n",
       "      <th>long</th>\n",
       "      <th>target</th>\n",
       "    </tr>\n",
       "  </thead>\n",
       "  <tbody>\n",
       "    <tr>\n",
       "      <th>40</th>\n",
       "      <td>4510.0</td>\n",
       "      <td>496.5</td>\n",
       "      <td>PER. BAZARNY 4            SPASSK-DALNY</td>\n",
       "      <td>NaN</td>\n",
       "      <td>NaN</td>\n",
       "      <td>NaN</td>\n",
       "      <td>0.039191</td>\n",
       "    </tr>\n",
       "    <tr>\n",
       "      <th>150</th>\n",
       "      <td>347.0</td>\n",
       "      <td>1022.0</td>\n",
       "      <td>ABB 6B NAB-CHELNINSKIJ    NAB.CHELNY</td>\n",
       "      <td>NaN</td>\n",
       "      <td>NaN</td>\n",
       "      <td>NaN</td>\n",
       "      <td>-0.145001</td>\n",
       "    </tr>\n",
       "    <tr>\n",
       "      <th>182</th>\n",
       "      <td>1591.0</td>\n",
       "      <td>1942.0</td>\n",
       "      <td>16A BEREJKOVSK NAB        MOSCOW</td>\n",
       "      <td>NaN</td>\n",
       "      <td>NaN</td>\n",
       "      <td>NaN</td>\n",
       "      <td>0.080034</td>\n",
       "    </tr>\n",
       "    <tr>\n",
       "      <th>192</th>\n",
       "      <td>440.0</td>\n",
       "      <td>1942.0</td>\n",
       "      <td>113 MIRA AV.              TOGLIATTI</td>\n",
       "      <td>NaN</td>\n",
       "      <td>NaN</td>\n",
       "      <td>NaN</td>\n",
       "      <td>-0.082956</td>\n",
       "    </tr>\n",
       "    <tr>\n",
       "      <th>214</th>\n",
       "      <td>556.0</td>\n",
       "      <td>1942.0</td>\n",
       "      <td>133A MOZHAYSKOE H/W.      MOSCOW</td>\n",
       "      <td>NaN</td>\n",
       "      <td>NaN</td>\n",
       "      <td>NaN</td>\n",
       "      <td>0.061517</td>\n",
       "    </tr>\n",
       "  </tbody>\n",
       "</table>\n",
       "</div>"
      ],
      "text/plain": [
       "         id  atm_group                                 address address_rus  \\\n",
       "40   4510.0      496.5  PER. BAZARNY 4            SPASSK-DALNY         NaN   \n",
       "150   347.0     1022.0  ABB 6B NAB-CHELNINSKIJ    NAB.CHELNY           NaN   \n",
       "182  1591.0     1942.0  16A BEREJKOVSK NAB        MOSCOW               NaN   \n",
       "192   440.0     1942.0  113 MIRA AV.              TOGLIATTI            NaN   \n",
       "214   556.0     1942.0  133A MOZHAYSKOE H/W.      MOSCOW               NaN   \n",
       "\n",
       "     lat  long    target  \n",
       "40   NaN   NaN  0.039191  \n",
       "150  NaN   NaN -0.145001  \n",
       "182  NaN   NaN  0.080034  \n",
       "192  NaN   NaN -0.082956  \n",
       "214  NaN   NaN  0.061517  "
      ]
     },
     "execution_count": 17,
     "metadata": {},
     "output_type": "execute_result"
    }
   ],
   "source": [
    "train[train[\"lat\"].isna()].head()"
   ]
  },
  {
   "cell_type": "code",
   "execution_count": 18,
   "metadata": {},
   "outputs": [
    {
     "name": "stderr",
     "output_type": "stream",
     "text": [
      "100%|████████████████████████████████████████████████████████████████████████████████████| 5/5 [00:05<00:00,  1.18s/it]\n"
     ]
    },
    {
     "data": {
      "text/html": [
       "<div>\n",
       "<style scoped>\n",
       "    .dataframe tbody tr th:only-of-type {\n",
       "        vertical-align: middle;\n",
       "    }\n",
       "\n",
       "    .dataframe tbody tr th {\n",
       "        vertical-align: top;\n",
       "    }\n",
       "\n",
       "    .dataframe thead th {\n",
       "        text-align: right;\n",
       "    }\n",
       "</style>\n",
       "<table border=\"1\" class=\"dataframe\">\n",
       "  <thead>\n",
       "    <tr style=\"text-align: right;\">\n",
       "      <th></th>\n",
       "      <th>id</th>\n",
       "      <th>atm_group</th>\n",
       "      <th>address</th>\n",
       "      <th>address_rus</th>\n",
       "      <th>lat</th>\n",
       "      <th>long</th>\n",
       "      <th>target</th>\n",
       "    </tr>\n",
       "  </thead>\n",
       "  <tbody>\n",
       "    <tr>\n",
       "      <th>40</th>\n",
       "      <td>4510.0</td>\n",
       "      <td>496.5</td>\n",
       "      <td>PER. BAZARNY 4            SPASSK-DALNY</td>\n",
       "      <td>ПЕР. БАЗАРНЫ 4 СПАССК-ДАЛЬНИЙ</td>\n",
       "      <td>44.597333</td>\n",
       "      <td>132.816714</td>\n",
       "      <td>0.039191</td>\n",
       "    </tr>\n",
       "    <tr>\n",
       "      <th>150</th>\n",
       "      <td>347.0</td>\n",
       "      <td>1022.0</td>\n",
       "      <td>ABB 6B NAB-CHELNINSKIJ    NAB.CHELNY</td>\n",
       "      <td>АББ 6Б НАБ-ЧЕЛНИНСКИЙ НАБ.Челны</td>\n",
       "      <td>NaN</td>\n",
       "      <td>NaN</td>\n",
       "      <td>-0.145001</td>\n",
       "    </tr>\n",
       "    <tr>\n",
       "      <th>182</th>\n",
       "      <td>1591.0</td>\n",
       "      <td>1942.0</td>\n",
       "      <td>16A BEREJKOVSK NAB        MOSCOW</td>\n",
       "      <td>16А БЕРЕЙКОВСК НАБ Москва</td>\n",
       "      <td>55.737836</td>\n",
       "      <td>37.562604</td>\n",
       "      <td>0.080034</td>\n",
       "    </tr>\n",
       "    <tr>\n",
       "      <th>192</th>\n",
       "      <td>440.0</td>\n",
       "      <td>1942.0</td>\n",
       "      <td>113 MIRA AV.              TOGLIATTI</td>\n",
       "      <td>113 МИРА АВ. Тольятти</td>\n",
       "      <td>53.737495</td>\n",
       "      <td>49.146326</td>\n",
       "      <td>-0.082956</td>\n",
       "    </tr>\n",
       "    <tr>\n",
       "      <th>214</th>\n",
       "      <td>556.0</td>\n",
       "      <td>1942.0</td>\n",
       "      <td>133A MOZHAYSKOE H/W.      MOSCOW</td>\n",
       "      <td>133А МОЖАЙСКОЕ Х/Щ. Москва</td>\n",
       "      <td>55.51483</td>\n",
       "      <td>36.194686</td>\n",
       "      <td>0.061517</td>\n",
       "    </tr>\n",
       "  </tbody>\n",
       "</table>\n",
       "</div>"
      ],
      "text/plain": [
       "         id  atm_group                                 address  \\\n",
       "40   4510.0      496.5  PER. BAZARNY 4            SPASSK-DALNY   \n",
       "150   347.0     1022.0  ABB 6B NAB-CHELNINSKIJ    NAB.CHELNY     \n",
       "182  1591.0     1942.0  16A BEREJKOVSK NAB        MOSCOW         \n",
       "192   440.0     1942.0  113 MIRA AV.              TOGLIATTI      \n",
       "214   556.0     1942.0  133A MOZHAYSKOE H/W.      MOSCOW         \n",
       "\n",
       "                         address_rus        lat        long    target  \n",
       "40     ПЕР. БАЗАРНЫ 4 СПАССК-ДАЛЬНИЙ  44.597333  132.816714  0.039191  \n",
       "150  АББ 6Б НАБ-ЧЕЛНИНСКИЙ НАБ.Челны        NaN         NaN -0.145001  \n",
       "182        16А БЕРЕЙКОВСК НАБ Москва  55.737836   37.562604  0.080034  \n",
       "192            113 МИРА АВ. Тольятти  53.737495   49.146326 -0.082956  \n",
       "214       133А МОЖАЙСКОЕ Х/Щ. Москва   55.51483   36.194686  0.061517  "
      ]
     },
     "execution_count": 18,
     "metadata": {},
     "output_type": "execute_result"
    }
   ],
   "source": [
    "train[train[\"lat\"].isna()].head().progress_apply(fill, axis=1)"
   ]
  },
  {
   "cell_type": "markdown",
   "metadata": {},
   "source": [
    "Для тех адресов, которые не были распознаны, пришлось разбираться вручную. Но таких адресов было мало."
   ]
  },
  {
   "cell_type": "markdown",
   "metadata": {},
   "source": [
    "### Создание новых фич"
   ]
  },
  {
   "cell_type": "markdown",
   "metadata": {},
   "source": [
    "Эта функция с помощью Геокодера API Яндекс.Карт по координатам точки определяет субъект РФ:"
   ]
  },
  {
   "cell_type": "code",
   "execution_count": 19,
   "metadata": {},
   "outputs": [],
   "source": [
    "def geocode2(lat, long):\n",
    "    import requests\n",
    "    apikey = \"6c46c2d4-efa9-4638-b868-f32a87cd9066\"\n",
    "    r = requests.get('https://geocode-maps.yandex.ru/1.x/?format=json&apikey={}&geocode={},{}&kind=locality'.format(apikey, long, lat))\n",
    "    r = r.json()\n",
    "\n",
    "    # делаем задержку, чтобы не перегружать сервер Яндекса\n",
    "    time.sleep(1)    \n",
    "    \n",
    "    if int(r[\"response\"][\"GeoObjectCollection\"][\"metaDataProperty\"][\"GeocoderResponseMetaData\"][\"found\"]) > 0 and \\\n",
    "        \"AdministrativeArea\" in r[\"response\"][\"GeoObjectCollection\"][\"featureMember\"][0][\"GeoObject\"]\\\n",
    "            [\"metaDataProperty\"][\"GeocoderMetaData\"][\"AddressDetails\"][\"Country\"].keys():\n",
    "        return r[\"response\"][\"GeoObjectCollection\"][\"featureMember\"][0][\"GeoObject\"]\\\n",
    "            [\"metaDataProperty\"][\"GeocoderMetaData\"][\"AddressDetails\"][\"Country\"][\"AdministrativeArea\"][\"AdministrativeAreaName\"]\n",
    "    else:\n",
    "        return np.NaN"
   ]
  },
  {
   "cell_type": "code",
   "execution_count": 20,
   "metadata": {},
   "outputs": [
    {
     "data": {
      "text/plain": [
       "'Приморский край'"
      ]
     },
     "execution_count": 20,
     "metadata": {},
     "output_type": "execute_result"
    }
   ],
   "source": [
    "geocode2(44.597333, 132.816714)"
   ]
  },
  {
   "cell_type": "code",
   "execution_count": 21,
   "metadata": {},
   "outputs": [
    {
     "name": "stderr",
     "output_type": "stream",
     "text": [
      "100%|████████████████████████████████████████████████████████████████████████████████████| 5/5 [00:04<00:00,  1.00it/s]\n"
     ]
    },
    {
     "data": {
      "text/plain": [
       "0    Сахалинская область\n",
       "1    Сахалинская область\n",
       "2    Сахалинская область\n",
       "3                 Москва\n",
       "4      Красноярский край\n",
       "dtype: object"
      ]
     },
     "execution_count": 21,
     "metadata": {},
     "output_type": "execute_result"
    }
   ],
   "source": [
    "train.head().progress_apply(lambda r: geocode2(r[\"lat\"], r[\"long\"]), axis=1)"
   ]
  },
  {
   "cell_type": "markdown",
   "metadata": {},
   "source": [
    "В итоге получаем:"
   ]
  },
  {
   "cell_type": "code",
   "execution_count": 22,
   "metadata": {},
   "outputs": [],
   "source": [
    "train = pd.read_csv(\"train7.csv\", index_col=0)\n",
    "test = pd.read_csv(\"test4.csv\", index_col=0)"
   ]
  },
  {
   "cell_type": "code",
   "execution_count": 23,
   "metadata": {},
   "outputs": [
    {
     "data": {
      "text/html": [
       "<div>\n",
       "<style scoped>\n",
       "    .dataframe tbody tr th:only-of-type {\n",
       "        vertical-align: middle;\n",
       "    }\n",
       "\n",
       "    .dataframe tbody tr th {\n",
       "        vertical-align: top;\n",
       "    }\n",
       "\n",
       "    .dataframe thead th {\n",
       "        text-align: right;\n",
       "    }\n",
       "</style>\n",
       "<table border=\"1\" class=\"dataframe\">\n",
       "  <thead>\n",
       "    <tr style=\"text-align: right;\">\n",
       "      <th></th>\n",
       "      <th>id</th>\n",
       "      <th>atm_group</th>\n",
       "      <th>address</th>\n",
       "      <th>address_rus</th>\n",
       "      <th>lat</th>\n",
       "      <th>long</th>\n",
       "      <th>target</th>\n",
       "      <th>subject</th>\n",
       "    </tr>\n",
       "  </thead>\n",
       "  <tbody>\n",
       "    <tr>\n",
       "      <th>0</th>\n",
       "      <td>8526.0</td>\n",
       "      <td>32.0</td>\n",
       "      <td>EMELYANOVA,34          Y-SAKHALINSK</td>\n",
       "      <td>улица А.О. Емельянова, 34, Южно-Сахалинск, Сах...</td>\n",
       "      <td>46.940995</td>\n",
       "      <td>142.738319</td>\n",
       "      <td>0.011500</td>\n",
       "      <td>Сахалинская область</td>\n",
       "    </tr>\n",
       "    <tr>\n",
       "      <th>1</th>\n",
       "      <td>8532.0</td>\n",
       "      <td>32.0</td>\n",
       "      <td>KOMSOMOLSKAYA,259B     Y.SAKHALINSK</td>\n",
       "      <td>Комсомольская улица, 259, Южно-Сахалинск, Саха...</td>\n",
       "      <td>46.937353</td>\n",
       "      <td>142.753348</td>\n",
       "      <td>0.029710</td>\n",
       "      <td>Сахалинская область</td>\n",
       "    </tr>\n",
       "    <tr>\n",
       "      <th>2</th>\n",
       "      <td>8533.0</td>\n",
       "      <td>32.0</td>\n",
       "      <td>KOMMUN. PR., 32        YUZHNO SAKHAL</td>\n",
       "      <td>Коммунистический проспект, Южно-Сахалинск, Сах...</td>\n",
       "      <td>46.959413</td>\n",
       "      <td>142.741113</td>\n",
       "      <td>0.009540</td>\n",
       "      <td>Сахалинская область</td>\n",
       "    </tr>\n",
       "    <tr>\n",
       "      <th>3</th>\n",
       "      <td>8684.0</td>\n",
       "      <td>32.0</td>\n",
       "      <td>LENINGRADSKIY PR.,76A  MOSCOW</td>\n",
       "      <td>Ленинградский проспект, 76А, Москва, Россия, 1...</td>\n",
       "      <td>55.805827</td>\n",
       "      <td>37.515146</td>\n",
       "      <td>-0.094035</td>\n",
       "      <td>Москва</td>\n",
       "    </tr>\n",
       "    <tr>\n",
       "      <th>4</th>\n",
       "      <td>37.0</td>\n",
       "      <td>32.0</td>\n",
       "      <td>GVARDEYSKAYA PL., 2    NORILSK</td>\n",
       "      <td>Гвардейская площадь, 2, Норильск, Красноярский...</td>\n",
       "      <td>69.343541</td>\n",
       "      <td>88.211228</td>\n",
       "      <td>0.079277</td>\n",
       "      <td>Красноярский край</td>\n",
       "    </tr>\n",
       "  </tbody>\n",
       "</table>\n",
       "</div>"
      ],
      "text/plain": [
       "       id  atm_group                                 address  \\\n",
       "0  8526.0       32.0  EMELYANOVA,34          Y-SAKHALINSK      \n",
       "1  8532.0       32.0  KOMSOMOLSKAYA,259B     Y.SAKHALINSK      \n",
       "2  8533.0       32.0  KOMMUN. PR., 32        YUZHNO SAKHAL     \n",
       "3  8684.0       32.0  LENINGRADSKIY PR.,76A  MOSCOW            \n",
       "4    37.0       32.0  GVARDEYSKAYA PL., 2    NORILSK           \n",
       "\n",
       "                                         address_rus        lat        long  \\\n",
       "0  улица А.О. Емельянова, 34, Южно-Сахалинск, Сах...  46.940995  142.738319   \n",
       "1  Комсомольская улица, 259, Южно-Сахалинск, Саха...  46.937353  142.753348   \n",
       "2  Коммунистический проспект, Южно-Сахалинск, Сах...  46.959413  142.741113   \n",
       "3  Ленинградский проспект, 76А, Москва, Россия, 1...  55.805827   37.515146   \n",
       "4  Гвардейская площадь, 2, Норильск, Красноярский...  69.343541   88.211228   \n",
       "\n",
       "     target              subject  \n",
       "0  0.011500  Сахалинская область  \n",
       "1  0.029710  Сахалинская область  \n",
       "2  0.009540  Сахалинская область  \n",
       "3 -0.094035               Москва  \n",
       "4  0.079277    Красноярский край  "
      ]
     },
     "execution_count": 23,
     "metadata": {},
     "output_type": "execute_result"
    }
   ],
   "source": [
    "train.head()"
   ]
  },
  {
   "cell_type": "code",
   "execution_count": 24,
   "metadata": {},
   "outputs": [
    {
     "data": {
      "text/plain": [
       "id             0\n",
       "atm_group      0\n",
       "address        0\n",
       "address_rus    0\n",
       "lat            0\n",
       "long           0\n",
       "target         0\n",
       "subject        0\n",
       "dtype: int64"
      ]
     },
     "execution_count": 24,
     "metadata": {},
     "output_type": "execute_result"
    }
   ],
   "source": [
    "train.isna().sum()"
   ]
  },
  {
   "cell_type": "markdown",
   "metadata": {},
   "source": [
    "Также хотим использовать внешние статистические данные по субъектам РФ:"
   ]
  },
  {
   "cell_type": "code",
   "execution_count": 25,
   "metadata": {},
   "outputs": [],
   "source": [
    "population = pd.read_csv(\"population.csv\", sep=\"\\t\")"
   ]
  },
  {
   "cell_type": "code",
   "execution_count": 26,
   "metadata": {},
   "outputs": [
    {
     "data": {
      "text/html": [
       "<div>\n",
       "<style scoped>\n",
       "    .dataframe tbody tr th:only-of-type {\n",
       "        vertical-align: middle;\n",
       "    }\n",
       "\n",
       "    .dataframe tbody tr th {\n",
       "        vertical-align: top;\n",
       "    }\n",
       "\n",
       "    .dataframe thead th {\n",
       "        text-align: right;\n",
       "    }\n",
       "</style>\n",
       "<table border=\"1\" class=\"dataframe\">\n",
       "  <thead>\n",
       "    <tr style=\"text-align: right;\">\n",
       "      <th></th>\n",
       "      <th>subject</th>\n",
       "      <th>density</th>\n",
       "      <th>population</th>\n",
       "      <th>area</th>\n",
       "      <th>district</th>\n",
       "    </tr>\n",
       "  </thead>\n",
       "  <tbody>\n",
       "    <tr>\n",
       "      <th>0</th>\n",
       "      <td>Москва</td>\n",
       "      <td>4883.43</td>\n",
       "      <td>12506468</td>\n",
       "      <td>2561</td>\n",
       "      <td>ЦФО</td>\n",
       "    </tr>\n",
       "    <tr>\n",
       "      <th>1</th>\n",
       "      <td>Санкт-Петербург</td>\n",
       "      <td>3814.64</td>\n",
       "      <td>5351935</td>\n",
       "      <td>1403</td>\n",
       "      <td>СЗФО</td>\n",
       "    </tr>\n",
       "    <tr>\n",
       "      <th>2</th>\n",
       "      <td>Севастополь</td>\n",
       "      <td>505.41</td>\n",
       "      <td>436670</td>\n",
       "      <td>864</td>\n",
       "      <td>ЮФО</td>\n",
       "    </tr>\n",
       "    <tr>\n",
       "      <th>3</th>\n",
       "      <td>Московская область</td>\n",
       "      <td>169.27</td>\n",
       "      <td>7503385</td>\n",
       "      <td>44329</td>\n",
       "      <td>ЦФО</td>\n",
       "    </tr>\n",
       "    <tr>\n",
       "      <th>4</th>\n",
       "      <td>Республика Ингушетия</td>\n",
       "      <td>134.52</td>\n",
       "      <td>488043</td>\n",
       "      <td>3628</td>\n",
       "      <td>СКФО</td>\n",
       "    </tr>\n",
       "  </tbody>\n",
       "</table>\n",
       "</div>"
      ],
      "text/plain": [
       "                subject  density  population   area district\n",
       "0                Москва  4883.43    12506468   2561      ЦФО\n",
       "1       Санкт-Петербург  3814.64     5351935   1403     СЗФО\n",
       "2           Севастополь   505.41      436670    864      ЮФО\n",
       "3    Московская область   169.27     7503385  44329      ЦФО\n",
       "4  Республика Ингушетия   134.52      488043   3628     СКФО"
      ]
     },
     "execution_count": 26,
     "metadata": {},
     "output_type": "execute_result"
    }
   ],
   "source": [
    "population.head()"
   ]
  },
  {
   "cell_type": "code",
   "execution_count": 27,
   "metadata": {},
   "outputs": [],
   "source": [
    "salaries = pd.read_csv(\"salaries.csv\")"
   ]
  },
  {
   "cell_type": "code",
   "execution_count": 28,
   "metadata": {},
   "outputs": [
    {
     "data": {
      "text/html": [
       "<div>\n",
       "<style scoped>\n",
       "    .dataframe tbody tr th:only-of-type {\n",
       "        vertical-align: middle;\n",
       "    }\n",
       "\n",
       "    .dataframe tbody tr th {\n",
       "        vertical-align: top;\n",
       "    }\n",
       "\n",
       "    .dataframe thead th {\n",
       "        text-align: right;\n",
       "    }\n",
       "</style>\n",
       "<table border=\"1\" class=\"dataframe\">\n",
       "  <thead>\n",
       "    <tr style=\"text-align: right;\">\n",
       "      <th></th>\n",
       "      <th>subject</th>\n",
       "      <th>salary</th>\n",
       "    </tr>\n",
       "  </thead>\n",
       "  <tbody>\n",
       "    <tr>\n",
       "      <th>0</th>\n",
       "      <td>Ямало-Ненецкий автономный округ</td>\n",
       "      <td>61.6</td>\n",
       "    </tr>\n",
       "    <tr>\n",
       "      <th>1</th>\n",
       "      <td>Ханты-Мансийский автономный округ — Югра</td>\n",
       "      <td>51.4</td>\n",
       "    </tr>\n",
       "    <tr>\n",
       "      <th>2</th>\n",
       "      <td>Москва</td>\n",
       "      <td>50.4</td>\n",
       "    </tr>\n",
       "    <tr>\n",
       "      <th>3</th>\n",
       "      <td>Ненецкий автономный округ</td>\n",
       "      <td>50.2</td>\n",
       "    </tr>\n",
       "    <tr>\n",
       "      <th>4</th>\n",
       "      <td>Чукотский автономный округ</td>\n",
       "      <td>49.8</td>\n",
       "    </tr>\n",
       "  </tbody>\n",
       "</table>\n",
       "</div>"
      ],
      "text/plain": [
       "                                    subject  salary\n",
       "0           Ямало-Ненецкий автономный округ    61.6\n",
       "1  Ханты-Мансийский автономный округ — Югра    51.4\n",
       "2                                    Москва    50.4\n",
       "3                 Ненецкий автономный округ    50.2\n",
       "4                Чукотский автономный округ    49.8"
      ]
     },
     "execution_count": 28,
     "metadata": {},
     "output_type": "execute_result"
    }
   ],
   "source": [
    "salaries.head()"
   ]
  },
  {
   "cell_type": "markdown",
   "metadata": {},
   "source": [
    "Будем использовать мешок слов из адреса:"
   ]
  },
  {
   "cell_type": "code",
   "execution_count": 29,
   "metadata": {},
   "outputs": [
    {
     "data": {
      "text/plain": [
       "CountVectorizer(analyzer='word', binary=False, decode_error='strict',\n",
       "        dtype=<class 'numpy.int64'>, encoding='utf-8', input='content',\n",
       "        lowercase=True, max_df=1.0, max_features=None, min_df=10,\n",
       "        ngram_range=(1, 1), preprocessor=None, stop_words=None,\n",
       "        strip_accents=None, token_pattern='(?u)\\\\b\\\\w\\\\w+\\\\b',\n",
       "        tokenizer=None, vocabulary=None)"
      ]
     },
     "execution_count": 29,
     "metadata": {},
     "output_type": "execute_result"
    }
   ],
   "source": [
    "from sklearn.feature_extraction.text import CountVectorizer\n",
    "\n",
    "vectorizer = CountVectorizer(min_df = 10)\n",
    "vectorizer.fit(train[\"address_rus\"])"
   ]
  },
  {
   "cell_type": "code",
   "execution_count": 30,
   "metadata": {},
   "outputs": [],
   "source": [
    "def add_features(df):\n",
    "    # количество банкоматов в субъекте РФ\n",
    "    train_counts = df.subject.value_counts().reset_index().rename(columns={'index':'subject', 'subject': 'atm_count'})\n",
    "    \n",
    "    df = df.merge(population, how='left').merge(salaries, how='left').merge(train_counts, how='left')\n",
    "    \n",
    "    bag = vectorizer.transform(df[\"address_rus\"]).todense()\n",
    "    bag = pd.DataFrame(bag, columns=[\"address_rus_bag_%s\" % n for n in vectorizer.get_feature_names()])\n",
    "    df = pd.concat([df, bag], axis = 1)\n",
    "    \n",
    "    columns_to_log = [\"density\", \"population\", \"area\"]\n",
    "    df[[x+\"_log\" for x in columns_to_log]] = np.log(df[columns_to_log])\n",
    "    \n",
    "    df[\"total_salary\"] = df[\"population_log\"] * df[\"salary\"]\n",
    "    df[\"total_salary_per_atm_count\"] = df[\"total_salary\"] / df[\"atm_count\"]\n",
    "    df[\"atm_count_per_person\"] = df[\"atm_count\"] / df[\"population_log\"]\n",
    "    df[\"atm_count_per_area\"] = df[\"atm_count\"] / df[\"area_log\"]\n",
    "    \n",
    "    df = pd.get_dummies(df, columns=[\"subject\", \"district\"])\n",
    "    \n",
    "    df = pd.concat([df, pd.get_dummies(df[\"atm_group\"], prefix=\"atm_group\")], axis=1)\n",
    "    \n",
    "    return df"
   ]
  },
  {
   "cell_type": "code",
   "execution_count": 31,
   "metadata": {},
   "outputs": [],
   "source": [
    "train = add_features(train)\n",
    "test = add_features(test)"
   ]
  },
  {
   "cell_type": "code",
   "execution_count": 32,
   "metadata": {},
   "outputs": [],
   "source": [
    "columns_to_normalize = [\"lat\", \"long\", \"density\", \"population\", \"area\", \"salary\", \"atm_count\", \"total_salary\", \n",
    "                    \"total_salary_per_atm_count\", \"atm_count_per_person\", \"atm_count_per_area\",\n",
    "                    \"density_log\", \"population_log\", \"area_log\"]\n",
    "train_mean = train[columns_to_normalize].mean()\n",
    "train_std = train[columns_to_normalize].std()"
   ]
  },
  {
   "cell_type": "code",
   "execution_count": 33,
   "metadata": {},
   "outputs": [],
   "source": [
    "def normalize_features(df):\n",
    "    df[[x+\"_norm\" for x in columns_to_normalize]] = (df[columns_to_normalize] - train_mean) / train_std\n",
    "    return df"
   ]
  },
  {
   "cell_type": "code",
   "execution_count": 34,
   "metadata": {},
   "outputs": [],
   "source": [
    "train = normalize_features(train)\n",
    "test = normalize_features(test)"
   ]
  },
  {
   "cell_type": "code",
   "execution_count": 35,
   "metadata": {},
   "outputs": [],
   "source": [
    "train_y = train[[\"target\"]].values.ravel()"
   ]
  },
  {
   "cell_type": "code",
   "execution_count": 36,
   "metadata": {},
   "outputs": [],
   "source": [
    "train, test = train.align(test, fill_value=0, axis=1)"
   ]
  },
  {
   "cell_type": "markdown",
   "metadata": {},
   "source": [
    "В бейзлайн-решении от организаторов предлагается использовать информацию о ближайших банкоматах. Можно развить эту идею:"
   ]
  },
  {
   "cell_type": "code",
   "execution_count": 38,
   "metadata": {},
   "outputs": [],
   "source": [
    "nn_idx = [3]\n",
    "\n",
    "dist_df = pd.concat([train, test], sort=True)\n",
    "\n",
    "def dist(x, y):\n",
    "    return np.sqrt((x[0]-y[0])**2 + (x[1]-y[1])**2)\n",
    "\n",
    "from sklearn.neighbors import NearestNeighbors\n",
    "\n",
    "atm_cols = [v for v in train.columns.values if v.startswith(\"atm_group_\")]\n",
    "\n",
    "nn = {}\n",
    "\n",
    "# для каждой группы банкоматов своя статистика\n",
    "for atm_col in atm_cols:\n",
    "    nn[atm_col] = NearestNeighbors(metric=dist, n_neighbors = 10).fit(dist_df[dist_df[atm_col] == 1][[\"lat\", \"long\"]])\n",
    "    \n",
    "nn[\"all\"] = NearestNeighbors(metric=dist, n_neighbors = 10).fit(dist_df[[\"lat\", \"long\"]])\n",
    "\n",
    "def add_same_nn_feature(r):\n",
    "    atm_group = r[atm_cols].astype(float).idxmax()\n",
    "    \n",
    "    lat_long = r[[\"lat\", \"long\"]].values.reshape(1, -1)\n",
    "    \n",
    "    distances, indexes = nn[atm_group].kneighbors(lat_long)\n",
    "    r[\"nearest_dist_same\"] = distances[:, 1][0]\n",
    "    \n",
    "    for idx in nn_idx:\n",
    "        r[\"mean{}_dist_same\".format(idx)] = distances[:, 1:(idx + 1)].mean(axis=1)[0]\n",
    "        \n",
    "    return r\n",
    "\n",
    "def add_nn_features(df_X):\n",
    "\n",
    "    for atm_col in tqdm(atm_cols + [\"all\"]):\n",
    "        distances, indexes = nn[atm_col].kneighbors(df_X[[\"lat\", \"long\"]])\n",
    "        df_X[\"nearest_dist_\" + atm_col] = distances[:, 1]\n",
    "\n",
    "        for idx in nn_idx:\n",
    "            df_X[\"mean{}_dist_{}\".format(idx, atm_col)] = distances[:, 1:(idx + 1)].mean(axis=1)"
   ]
  },
  {
   "cell_type": "code",
   "execution_count": 39,
   "metadata": {},
   "outputs": [
    {
     "name": "stderr",
     "output_type": "stream",
     "text": [
      "100%|████████████████████████████████████████████████████████████████████████████████████| 8/8 [01:29<00:00, 14.10s/it]\n",
      "100%|████████████████████████████████████████████████████████████████████████████████████| 8/8 [00:35<00:00,  5.56s/it]\n"
     ]
    },
    {
     "name": "stdout",
     "output_type": "stream",
     "text": [
      "Wall time: 2min 5s\n"
     ]
    }
   ],
   "source": [
    "%%time\n",
    "\n",
    "add_nn_features(train)\n",
    "add_nn_features(test)"
   ]
  },
  {
   "cell_type": "code",
   "execution_count": 40,
   "metadata": {},
   "outputs": [
    {
     "name": "stderr",
     "output_type": "stream",
     "text": [
      "100%|█████████████████████████████████████████████████████████████████████████████| 6261/6261 [00:50<00:00, 122.94it/s]\n",
      "100%|█████████████████████████████████████████████████████████████████████████████| 2504/2504 [00:19<00:00, 124.64it/s]\n"
     ]
    },
    {
     "name": "stdout",
     "output_type": "stream",
     "text": [
      "Wall time: 1min 10s\n"
     ]
    }
   ],
   "source": [
    "%%time\n",
    "\n",
    "train = train.progress_apply(add_same_nn_feature, axis = 1)\n",
    "test = test.progress_apply(add_same_nn_feature, axis = 1)"
   ]
  },
  {
   "cell_type": "markdown",
   "metadata": {},
   "source": [
    "### Отбор фич"
   ]
  },
  {
   "cell_type": "code",
   "execution_count": 41,
   "metadata": {},
   "outputs": [],
   "source": [
    "address_rus_bag_columns = [x for x in train.columns.values if x.startswith(\"address_rus_bag_\")]\n",
    "district_columns = [x for x in train.columns.values if x.startswith(\"district_\")]\n",
    "subject_columns = [x for x in train.columns.values if x.startswith(\"subject_\")]\n",
    "atm_group_columns = [x for x in train.columns.values if x.startswith(\"atm_group_\")]\n",
    "mean3_columns = [x for x in train.columns.values if x.startswith(\"mean3_\")]\n",
    "nearest_columns = [x for x in train.columns.values if x.startswith(\"nearest_\")]"
   ]
  },
  {
   "cell_type": "code",
   "execution_count": 42,
   "metadata": {},
   "outputs": [],
   "source": [
    "all_features = np.array(train.columns.drop([\"address\", \"address_rus\", \"id\", \"target\"]))"
   ]
  },
  {
   "cell_type": "code",
   "execution_count": 43,
   "metadata": {},
   "outputs": [
    {
     "data": {
      "text/plain": [
       "{'area',\n",
       " 'area_log',\n",
       " 'area_log_norm',\n",
       " 'area_norm',\n",
       " 'atm_count',\n",
       " 'atm_count_norm',\n",
       " 'atm_count_per_area',\n",
       " 'atm_count_per_area_norm',\n",
       " 'atm_count_per_person',\n",
       " 'atm_count_per_person_norm',\n",
       " 'atm_group',\n",
       " 'density',\n",
       " 'density_log',\n",
       " 'density_log_norm',\n",
       " 'density_norm',\n",
       " 'lat',\n",
       " 'lat_norm',\n",
       " 'long',\n",
       " 'long_norm',\n",
       " 'population',\n",
       " 'population_log',\n",
       " 'population_log_norm',\n",
       " 'population_norm',\n",
       " 'salary',\n",
       " 'salary_norm',\n",
       " 'total_salary',\n",
       " 'total_salary_norm',\n",
       " 'total_salary_per_atm_count',\n",
       " 'total_salary_per_atm_count_norm'}"
      ]
     },
     "execution_count": 43,
     "metadata": {},
     "output_type": "execute_result"
    }
   ],
   "source": [
    "set(all_features) - set(subject_columns) - set(atm_group_columns) - set(district_columns) - set(address_rus_bag_columns) - \\\n",
    "    set(mean3_columns) - set(nearest_columns)"
   ]
  },
  {
   "cell_type": "code",
   "execution_count": 44,
   "metadata": {},
   "outputs": [],
   "source": [
    "from lightgbm import LGBMRegressor\n",
    "from sklearn.model_selection import cross_val_score, cross_val_predict, KFold\n",
    "from sklearn.metrics import mean_squared_error, make_scorer"
   ]
  },
  {
   "cell_type": "code",
   "execution_count": 45,
   "metadata": {},
   "outputs": [],
   "source": [
    "def sqrt_mean_squared_error(y_true, y_pred):\n",
    "    return np.sqrt(mean_squared_error(y_true, y_pred))"
   ]
  },
  {
   "cell_type": "code",
   "execution_count": 46,
   "metadata": {},
   "outputs": [],
   "source": [
    "sqrt_mean_squared_error_scorer = make_scorer(sqrt_mean_squared_error, greater_is_better=False)"
   ]
  },
  {
   "cell_type": "code",
   "execution_count": 47,
   "metadata": {},
   "outputs": [],
   "source": [
    "import matplotlib.pyplot as plt"
   ]
  },
  {
   "cell_type": "code",
   "execution_count": 48,
   "metadata": {},
   "outputs": [],
   "source": [
    "def plot_importance(regr, features):\n",
    "    feature_importance = regr.feature_importances_\n",
    "    feature_importance = 100.0 * (feature_importance / feature_importance.max())\n",
    "    sorted_idx = np.argsort(feature_importance)[-15:]\n",
    "    pos = np.arange(sorted_idx.shape[0]) + .5\n",
    "    plt.barh(pos, feature_importance[sorted_idx], align='center')\n",
    "    plt.yticks(pos, features[sorted_idx])\n",
    "    plt.xlabel('Relative Importance')\n",
    "    plt.title('Variable Importance')\n",
    "    plt.show()"
   ]
  },
  {
   "cell_type": "code",
   "execution_count": 49,
   "metadata": {},
   "outputs": [
    {
     "data": {
      "text/plain": [
       "0.04471091795415864"
      ]
     },
     "execution_count": 49,
     "metadata": {},
     "output_type": "execute_result"
    }
   ],
   "source": [
    "regr = LGBMRegressor(n_estimators=90)\n",
    "-cross_val_score(regr, train[all_features], train_y, cv=10, scoring=sqrt_mean_squared_error_scorer).mean()"
   ]
  },
  {
   "cell_type": "markdown",
   "metadata": {},
   "source": [
    "Можно посмотреть, какие фичи являются наиболее значимыми:"
   ]
  },
  {
   "cell_type": "code",
   "execution_count": 50,
   "metadata": {},
   "outputs": [
    {
     "data": {
      "image/png": "[encoded data removed]",
      "text/plain": [
       "<Figure size 432x288 with 1 Axes>"
      ]
     },
     "metadata": {
      "needs_background": "light"
     },
     "output_type": "display_data"
    }
   ],
   "source": [
    "regr.fit(train[all_features].values, train_y)\n",
    "plot_importance(regr, np.array(all_features))"
   ]
  },
  {
   "cell_type": "markdown",
   "metadata": {},
   "source": [
    "Отбор фич можно было произвести с помощью https://github.com/scikit-learn-contrib/boruta_py или https://github.com/rasbt/mlxtend/blob/master/mlxtend/feature_selection/sequential_feature_selector.py\n",
    "\n",
    "Ниже показан ещё один способ:"
   ]
  },
  {
   "cell_type": "code",
   "execution_count": 51,
   "metadata": {},
   "outputs": [],
   "source": [
    "from sklearn.feature_selection import RFECV"
   ]
  },
  {
   "cell_type": "code",
   "execution_count": 55,
   "metadata": {},
   "outputs": [],
   "source": [
    "selector = RFECV(regr, step=1, cv=3)"
   ]
  },
  {
   "cell_type": "code",
   "execution_count": 56,
   "metadata": {},
   "outputs": [
    {
     "name": "stdout",
     "output_type": "stream",
     "text": [
      "Wall time: 15min 57s\n"
     ]
    },
    {
     "data": {
      "text/plain": [
       "RFECV(cv=3,\n",
       "   estimator=LGBMRegressor(boosting_type='gbdt', class_weight=None, colsample_bytree=1.0,\n",
       "       importance_type='split', learning_rate=0.1, max_depth=-1,\n",
       "       min_child_samples=20, min_child_weight=0.001, min_split_gain=0.0,\n",
       "       n_estimators=90, n_jobs=-1, num_leaves=31, objective=None,\n",
       "       random_state=None, reg_alpha=0.0, reg_lambda=0.0, silent=True,\n",
       "       subsample=1.0, subsample_for_bin=200000, subsample_freq=0),\n",
       "   min_features_to_select=1, n_jobs=None, scoring=None, step=1, verbose=0)"
      ]
     },
     "execution_count": 56,
     "metadata": {},
     "output_type": "execute_result"
    }
   ],
   "source": [
    "%%time\n",
    "\n",
    "selector.fit(train[all_features].values, train_y)"
   ]
  },
  {
   "cell_type": "code",
   "execution_count": 57,
   "metadata": {},
   "outputs": [
    {
     "data": {
      "text/plain": [
       "85"
      ]
     },
     "execution_count": 57,
     "metadata": {},
     "output_type": "execute_result"
    }
   ],
   "source": [
    "sum(selector.support_)"
   ]
  },
  {
   "cell_type": "code",
   "execution_count": 58,
   "metadata": {},
   "outputs": [],
   "source": [
    "selected_features = all_features[selector.support_]"
   ]
  },
  {
   "cell_type": "code",
   "execution_count": 59,
   "metadata": {},
   "outputs": [
    {
     "data": {
      "text/plain": [
       "0.044635495170901915"
      ]
     },
     "execution_count": 59,
     "metadata": {},
     "output_type": "execute_result"
    }
   ],
   "source": [
    "regr = LGBMRegressor(n_estimators=90)\n",
    "-cross_val_score(regr, train[selected_features], train_y, cv=10, scoring=sqrt_mean_squared_error_scorer).mean()"
   ]
  },
  {
   "cell_type": "markdown",
   "metadata": {},
   "source": [
    "Однако во время соревнования фичи были подобраны вручную:"
   ]
  },
  {
   "cell_type": "code",
   "execution_count": 60,
   "metadata": {},
   "outputs": [],
   "source": [
    "lgbm_features = ['lat', 'long', 'atm_group'] + atm_group_columns + subject_columns +\\\n",
    "    ['total_salary_per_atm_count'] + mean3_columns + nearest_columns"
   ]
  },
  {
   "cell_type": "code",
   "execution_count": 61,
   "metadata": {},
   "outputs": [
    {
     "data": {
      "text/plain": [
       "0.044820750452441833"
      ]
     },
     "execution_count": 61,
     "metadata": {},
     "output_type": "execute_result"
    }
   ],
   "source": [
    "regr = LGBMRegressor(n_estimators=90)\n",
    "-cross_val_score(regr, train[lgbm_features], train_y, cv=10, scoring=sqrt_mean_squared_error_scorer).mean()"
   ]
  },
  {
   "cell_type": "markdown",
   "metadata": {},
   "source": [
    "### Отбор выбросов"
   ]
  },
  {
   "cell_type": "markdown",
   "metadata": {},
   "source": [
    "Попробуем уменьшить ошибку, перестав учитывать выбросы при обучении."
   ]
  },
  {
   "cell_type": "code",
   "execution_count": 62,
   "metadata": {},
   "outputs": [],
   "source": [
    "pred_train = cross_val_predict(estimator=regr, X=train[lgbm_features], y=train_y, cv=10)\n",
    "abs_train_error = np.absolute(train_y - pred_train)"
   ]
  },
  {
   "cell_type": "code",
   "execution_count": 63,
   "metadata": {},
   "outputs": [],
   "source": [
    "def masked_cross_val_score(regr, X, y, outlier_mask):\n",
    "    r = []\n",
    "\n",
    "    for train_val_index, val_index in KFold(n_splits=10).split(train_y):\n",
    "        train_val_X, val_X = X.values[train_val_index], X.values[val_index]\n",
    "        train_val_y, val_y = y[train_val_index], y[val_index]\n",
    "        regr.fit(train_val_X[~outlier_mask[train_val_index]], train_val_y[~outlier_mask[train_val_index]])\n",
    "        r.append(sqrt_mean_squared_error(val_y, regr.predict(val_X)))\n",
    "        \n",
    "    return np.mean(r)"
   ]
  },
  {
   "cell_type": "code",
   "execution_count": 64,
   "metadata": {},
   "outputs": [],
   "source": [
    "from IPython.display import display, clear_output"
   ]
  },
  {
   "cell_type": "code",
   "execution_count": 65,
   "metadata": {},
   "outputs": [
    {
     "data": {
      "text/plain": [
       "'abs_train_error_limit: 0.01099999999999994, result: 0.04420851413865169'"
      ]
     },
     "metadata": {},
     "output_type": "display_data"
    },
    {
     "name": "stderr",
     "output_type": "stream",
     "text": [
      "100%|██████████████████████████████████████████████████████████████████████████████████| 65/65 [03:31<00:00,  2.08s/it]\n"
     ]
    }
   ],
   "source": [
    "limits = np.arange(0.075, 0.01, -0.001)\n",
    "ms = []\n",
    "\n",
    "for abs_train_error_limit in tqdm(limits):\n",
    "    outlier_mask = (abs_train_error > abs_train_error_limit)\n",
    "    ms.append(masked_cross_val_score(regr, train[lgbm_features], train_y, outlier_mask))\n",
    "    clear_output(wait=True)\n",
    "    display(\"abs_train_error_limit: {}, result: {}\".format(abs_train_error_limit, ms[-1]))"
   ]
  },
  {
   "cell_type": "code",
   "execution_count": 66,
   "metadata": {},
   "outputs": [
    {
     "data": {
      "image/png": "[encoded data removed]",
      "text/plain": [
       "<Figure size 432x288 with 1 Axes>"
      ]
     },
     "metadata": {
      "needs_background": "light"
     },
     "output_type": "display_data"
    }
   ],
   "source": [
    "plt.xlabel(\"Ошибка предсказания, при которой точка считается выбросом\")\n",
    "plt.ylabel(\"Ошибка классификатора\")\n",
    "plt.plot(limits, ms);"
   ]
  },
  {
   "cell_type": "code",
   "execution_count": 67,
   "metadata": {},
   "outputs": [
    {
     "data": {
      "text/plain": [
       "0.03399999999999996"
      ]
     },
     "execution_count": 67,
     "metadata": {},
     "output_type": "execute_result"
    }
   ],
   "source": [
    "best_limit = limits[np.argmin(ms)]\n",
    "best_limit"
   ]
  },
  {
   "cell_type": "code",
   "execution_count": 68,
   "metadata": {},
   "outputs": [
    {
     "data": {
      "text/plain": [
       "0.04323698247447099"
      ]
     },
     "execution_count": 68,
     "metadata": {},
     "output_type": "execute_result"
    }
   ],
   "source": [
    "outlier_mask = (abs_train_error > best_limit)\n",
    "\n",
    "regr = LGBMRegressor(n_estimators=90)\n",
    "masked_cross_val_score(regr, train[lgbm_features], train_y, outlier_mask)"
   ]
  },
  {
   "cell_type": "markdown",
   "metadata": {},
   "source": [
    "Видим, что ошибка предсказания уменьшилась."
   ]
  },
  {
   "cell_type": "markdown",
   "metadata": {},
   "source": [
    "### Подбор гиперпараметров"
   ]
  },
  {
   "cell_type": "markdown",
   "metadata": {},
   "source": [
    "Подберём теперь оптимальное число деревьев для бустинга:"
   ]
  },
  {
   "cell_type": "code",
   "execution_count": 69,
   "metadata": {},
   "outputs": [
    {
     "data": {
      "text/plain": [
       "'n_estimators: 790, result: 0.042930309126496036'"
      ]
     },
     "metadata": {},
     "output_type": "display_data"
    },
    {
     "name": "stderr",
     "output_type": "stream",
     "text": [
      "100%|██████████████████████████████████████████████████████████████████████████████████| 15/15 [03:23<00:00, 20.69s/it]\n"
     ]
    }
   ],
   "source": [
    "estimators = np.arange(90, 800, 50)\n",
    "ms = []\n",
    "\n",
    "for n_estimators in tqdm(estimators):\n",
    "    regr = LGBMRegressor(n_estimators=n_estimators)\n",
    "    ms.append(masked_cross_val_score(regr, train[lgbm_features], train_y, outlier_mask))\n",
    "    clear_output(wait=True)\n",
    "    display(\"n_estimators: {}, result: {}\".format(n_estimators, ms[-1]))"
   ]
  },
  {
   "cell_type": "code",
   "execution_count": 70,
   "metadata": {},
   "outputs": [
    {
     "data": {
      "image/png": "[encoded data removed]",
      "text/plain": [
       "<Figure size 432x288 with 1 Axes>"
      ]
     },
     "metadata": {
      "needs_background": "light"
     },
     "output_type": "display_data"
    }
   ],
   "source": [
    "plt.xlabel(\"Количество деревьев\")\n",
    "plt.ylabel(\"Ошибка классификатора\")\n",
    "plt.plot(estimators, ms);"
   ]
  },
  {
   "cell_type": "code",
   "execution_count": 71,
   "metadata": {},
   "outputs": [
    {
     "data": {
      "text/plain": [
       "490"
      ]
     },
     "execution_count": 71,
     "metadata": {},
     "output_type": "execute_result"
    }
   ],
   "source": [
    "best_n_estimators = estimators[np.argmin(ms)]\n",
    "best_n_estimators"
   ]
  },
  {
   "cell_type": "code",
   "execution_count": 72,
   "metadata": {},
   "outputs": [
    {
     "data": {
      "text/plain": [
       "0.04290111176777265"
      ]
     },
     "execution_count": 72,
     "metadata": {},
     "output_type": "execute_result"
    }
   ],
   "source": [
    "regr = LGBMRegressor(n_estimators=best_n_estimators)\n",
    "masked_cross_val_score(regr, train[lgbm_features], train_y, outlier_mask)"
   ]
  },
  {
   "cell_type": "markdown",
   "metadata": {},
   "source": [
    "Кстати, если бы был взят лучший набор фичей, ошибка была бы ещё меньше:"
   ]
  },
  {
   "cell_type": "code",
   "execution_count": 73,
   "metadata": {},
   "outputs": [
    {
     "data": {
      "text/plain": [
       "0.04288994127807504"
      ]
     },
     "execution_count": 73,
     "metadata": {},
     "output_type": "execute_result"
    }
   ],
   "source": [
    "regr = LGBMRegressor(n_estimators=best_n_estimators)\n",
    "masked_cross_val_score(regr, train[selected_features], train_y, outlier_mask)"
   ]
  },
  {
   "cell_type": "markdown",
   "metadata": {},
   "source": [
    "### Подготовка решения к отправке"
   ]
  },
  {
   "cell_type": "code",
   "execution_count": 74,
   "metadata": {},
   "outputs": [
    {
     "data": {
      "text/plain": [
       "LGBMRegressor(boosting_type='gbdt', class_weight=None, colsample_bytree=1.0,\n",
       "       importance_type='split', learning_rate=0.1, max_depth=-1,\n",
       "       min_child_samples=20, min_child_weight=0.001, min_split_gain=0.0,\n",
       "       n_estimators=490, n_jobs=-1, num_leaves=31, objective=None,\n",
       "       random_state=None, reg_alpha=0.0, reg_lambda=0.0, silent=True,\n",
       "       subsample=1.0, subsample_for_bin=200000, subsample_freq=0)"
      ]
     },
     "execution_count": 74,
     "metadata": {},
     "output_type": "execute_result"
    }
   ],
   "source": [
    "regr.fit(train[lgbm_features].values[~outlier_mask], train_y[~outlier_mask])"
   ]
  },
  {
   "cell_type": "code",
   "execution_count": 75,
   "metadata": {},
   "outputs": [],
   "source": [
    "test[\"target\"] = regr.predict(test[lgbm_features])"
   ]
  },
  {
   "cell_type": "code",
   "execution_count": 76,
   "metadata": {},
   "outputs": [],
   "source": [
    "test[[\"target\"]].to_csv(\"result14.csv\")"
   ]
  },
  {
   "cell_type": "code",
   "execution_count": null,
   "metadata": {},
   "outputs": [],
   "source": []
  }
 ],
 "metadata": {
  "kernelspec": {
   "display_name": "Python 3",
   "language": "python",
   "name": "python3"
  },
  "language_info": {
   "codemirror_mode": {
    "name": "ipython",
    "version": 3
   },
   "file_extension": ".py",
   "mimetype": "text/x-python",
   "name": "python",
   "nbconvert_exporter": "python",
   "pygments_lexer": "ipython3",
   "version": "3.6.8"
  }
 },
 "nbformat": 4,
 "nbformat_minor": 2
}
